{
 "cells": [
  {
   "cell_type": "markdown",
   "metadata": {},
   "source": [
    "# MNIST dataset classification\n",
    "\n",
    "Here I'm training a neural network to solve the \"Hello world\" of image recognition. 28x28 pixel monochrome images of handwritten digits 0...9.\n",
    "\n",
    "I'm using ensembling of 3 different neural networks, each having different weaknesses shown in confusion matrices.\n",
    "\n",
    "Good enough to get 99.685% accuracy on Kaggle competition https://www.kaggle.com/c/digit-recognizer/leaderboard\n",
    "\n",
    "Dataset can be found on kaggle as well."
   ]
  },
  {
   "cell_type": "code",
   "execution_count": 1,
   "metadata": {},
   "outputs": [],
   "source": [
    "EPOCHS = 70"
   ]
  },
  {
   "cell_type": "markdown",
   "metadata": {},
   "source": [
    "# 1. Import libraries"
   ]
  },
  {
   "cell_type": "code",
   "execution_count": 2,
   "metadata": {},
   "outputs": [
    {
     "name": "stderr",
     "output_type": "stream",
     "text": [
      "Using TensorFlow backend.\n"
     ]
    }
   ],
   "source": [
    "import numpy as np\n",
    "import pandas as pd\n",
    "import matplotlib.pyplot as plt\n",
    "import matplotlib.scale as scale\n",
    "import seaborn as sns\n",
    "%matplotlib inline\n",
    "from keras.utils import to_categorical\n",
    "from keras.preprocessing.image import ImageDataGenerator\n",
    "from keras.models import Sequential, Model, Input\n",
    "from keras.layers import Activation, Dense, Conv2D, Flatten, pooling, Dropout, \\\n",
    "                        GlobalAveragePooling2D, Average, BatchNormalization\n",
    "from keras.optimizers import Adam\n",
    "from keras.callbacks import ReduceLROnPlateau, ModelCheckpoint, TensorBoard\n",
    "from sklearn.model_selection import train_test_split\n",
    "from sklearn.metrics import confusion_matrix"
   ]
  },
  {
   "cell_type": "markdown",
   "metadata": {},
   "source": [
    "# 2. Load, reshape and split data\n",
    "### train.csv and test.csv from Kaggle MNIST competition need to be in the same folder as the notebook"
   ]
  },
  {
   "cell_type": "code",
   "execution_count": 3,
   "metadata": {},
   "outputs": [
    {
     "data": {
      "text/html": [
       "<div>\n",
       "<style scoped>\n",
       "    .dataframe tbody tr th:only-of-type {\n",
       "        vertical-align: middle;\n",
       "    }\n",
       "\n",
       "    .dataframe tbody tr th {\n",
       "        vertical-align: top;\n",
       "    }\n",
       "\n",
       "    .dataframe thead th {\n",
       "        text-align: right;\n",
       "    }\n",
       "</style>\n",
       "<table border=\"1\" class=\"dataframe\">\n",
       "  <thead>\n",
       "    <tr style=\"text-align: right;\">\n",
       "      <th></th>\n",
       "      <th>label</th>\n",
       "      <th>pixel0</th>\n",
       "      <th>pixel1</th>\n",
       "      <th>pixel2</th>\n",
       "      <th>pixel3</th>\n",
       "      <th>pixel4</th>\n",
       "      <th>pixel5</th>\n",
       "      <th>pixel6</th>\n",
       "      <th>pixel7</th>\n",
       "      <th>pixel8</th>\n",
       "      <th>...</th>\n",
       "      <th>pixel774</th>\n",
       "      <th>pixel775</th>\n",
       "      <th>pixel776</th>\n",
       "      <th>pixel777</th>\n",
       "      <th>pixel778</th>\n",
       "      <th>pixel779</th>\n",
       "      <th>pixel780</th>\n",
       "      <th>pixel781</th>\n",
       "      <th>pixel782</th>\n",
       "      <th>pixel783</th>\n",
       "    </tr>\n",
       "  </thead>\n",
       "  <tbody>\n",
       "    <tr>\n",
       "      <th>0</th>\n",
       "      <td>1</td>\n",
       "      <td>0</td>\n",
       "      <td>0</td>\n",
       "      <td>0</td>\n",
       "      <td>0</td>\n",
       "      <td>0</td>\n",
       "      <td>0</td>\n",
       "      <td>0</td>\n",
       "      <td>0</td>\n",
       "      <td>0</td>\n",
       "      <td>...</td>\n",
       "      <td>0</td>\n",
       "      <td>0</td>\n",
       "      <td>0</td>\n",
       "      <td>0</td>\n",
       "      <td>0</td>\n",
       "      <td>0</td>\n",
       "      <td>0</td>\n",
       "      <td>0</td>\n",
       "      <td>0</td>\n",
       "      <td>0</td>\n",
       "    </tr>\n",
       "    <tr>\n",
       "      <th>1</th>\n",
       "      <td>0</td>\n",
       "      <td>0</td>\n",
       "      <td>0</td>\n",
       "      <td>0</td>\n",
       "      <td>0</td>\n",
       "      <td>0</td>\n",
       "      <td>0</td>\n",
       "      <td>0</td>\n",
       "      <td>0</td>\n",
       "      <td>0</td>\n",
       "      <td>...</td>\n",
       "      <td>0</td>\n",
       "      <td>0</td>\n",
       "      <td>0</td>\n",
       "      <td>0</td>\n",
       "      <td>0</td>\n",
       "      <td>0</td>\n",
       "      <td>0</td>\n",
       "      <td>0</td>\n",
       "      <td>0</td>\n",
       "      <td>0</td>\n",
       "    </tr>\n",
       "    <tr>\n",
       "      <th>2</th>\n",
       "      <td>1</td>\n",
       "      <td>0</td>\n",
       "      <td>0</td>\n",
       "      <td>0</td>\n",
       "      <td>0</td>\n",
       "      <td>0</td>\n",
       "      <td>0</td>\n",
       "      <td>0</td>\n",
       "      <td>0</td>\n",
       "      <td>0</td>\n",
       "      <td>...</td>\n",
       "      <td>0</td>\n",
       "      <td>0</td>\n",
       "      <td>0</td>\n",
       "      <td>0</td>\n",
       "      <td>0</td>\n",
       "      <td>0</td>\n",
       "      <td>0</td>\n",
       "      <td>0</td>\n",
       "      <td>0</td>\n",
       "      <td>0</td>\n",
       "    </tr>\n",
       "    <tr>\n",
       "      <th>3</th>\n",
       "      <td>4</td>\n",
       "      <td>0</td>\n",
       "      <td>0</td>\n",
       "      <td>0</td>\n",
       "      <td>0</td>\n",
       "      <td>0</td>\n",
       "      <td>0</td>\n",
       "      <td>0</td>\n",
       "      <td>0</td>\n",
       "      <td>0</td>\n",
       "      <td>...</td>\n",
       "      <td>0</td>\n",
       "      <td>0</td>\n",
       "      <td>0</td>\n",
       "      <td>0</td>\n",
       "      <td>0</td>\n",
       "      <td>0</td>\n",
       "      <td>0</td>\n",
       "      <td>0</td>\n",
       "      <td>0</td>\n",
       "      <td>0</td>\n",
       "    </tr>\n",
       "    <tr>\n",
       "      <th>4</th>\n",
       "      <td>0</td>\n",
       "      <td>0</td>\n",
       "      <td>0</td>\n",
       "      <td>0</td>\n",
       "      <td>0</td>\n",
       "      <td>0</td>\n",
       "      <td>0</td>\n",
       "      <td>0</td>\n",
       "      <td>0</td>\n",
       "      <td>0</td>\n",
       "      <td>...</td>\n",
       "      <td>0</td>\n",
       "      <td>0</td>\n",
       "      <td>0</td>\n",
       "      <td>0</td>\n",
       "      <td>0</td>\n",
       "      <td>0</td>\n",
       "      <td>0</td>\n",
       "      <td>0</td>\n",
       "      <td>0</td>\n",
       "      <td>0</td>\n",
       "    </tr>\n",
       "  </tbody>\n",
       "</table>\n",
       "<p>5 rows × 785 columns</p>\n",
       "</div>"
      ],
      "text/plain": [
       "   label  pixel0  pixel1  pixel2  pixel3  pixel4  pixel5  pixel6  pixel7  \\\n",
       "0      1       0       0       0       0       0       0       0       0   \n",
       "1      0       0       0       0       0       0       0       0       0   \n",
       "2      1       0       0       0       0       0       0       0       0   \n",
       "3      4       0       0       0       0       0       0       0       0   \n",
       "4      0       0       0       0       0       0       0       0       0   \n",
       "\n",
       "   pixel8    ...     pixel774  pixel775  pixel776  pixel777  pixel778  \\\n",
       "0       0    ...            0         0         0         0         0   \n",
       "1       0    ...            0         0         0         0         0   \n",
       "2       0    ...            0         0         0         0         0   \n",
       "3       0    ...            0         0         0         0         0   \n",
       "4       0    ...            0         0         0         0         0   \n",
       "\n",
       "   pixel779  pixel780  pixel781  pixel782  pixel783  \n",
       "0         0         0         0         0         0  \n",
       "1         0         0         0         0         0  \n",
       "2         0         0         0         0         0  \n",
       "3         0         0         0         0         0  \n",
       "4         0         0         0         0         0  \n",
       "\n",
       "[5 rows x 785 columns]"
      ]
     },
     "execution_count": 3,
     "metadata": {},
     "output_type": "execute_result"
    }
   ],
   "source": [
    "df = pd.read_csv('train.csv')\n",
    "df.head()"
   ]
  },
  {
   "cell_type": "code",
   "execution_count": 4,
   "metadata": {},
   "outputs": [],
   "source": [
    "Y = df.loc[:,'label'].values\n",
    "X = df.loc[:,'pixel0':'pixel783'].values"
   ]
  },
  {
   "cell_type": "code",
   "execution_count": 5,
   "metadata": {},
   "outputs": [
    {
     "name": "stdout",
     "output_type": "stream",
     "text": [
      "(42000, 784)\n",
      "(42000,)\n"
     ]
    }
   ],
   "source": [
    "print(X.shape)\n",
    "print(Y.shape)"
   ]
  },
  {
   "cell_type": "code",
   "execution_count": 6,
   "metadata": {},
   "outputs": [],
   "source": [
    "#reshape data to fit model\n",
    "X = X.reshape(len(X),28,28,1)"
   ]
  },
  {
   "cell_type": "code",
   "execution_count": 7,
   "metadata": {},
   "outputs": [
    {
     "data": {
      "text/plain": [
       "<matplotlib.image.AxesImage at 0x7fec0f35ba90>"
      ]
     },
     "execution_count": 7,
     "metadata": {},
     "output_type": "execute_result"
    },
    {
     "data": {
      "image/png": "[encoded data removed]",
      "text/plain": [
       "<Figure size 432x288 with 1 Axes>"
      ]
     },
     "metadata": {
      "needs_background": "light"
     },
     "output_type": "display_data"
    }
   ],
   "source": [
    "#plot the first image in the dataset\n",
    "plt.imshow(X[0].reshape(28,28), cmap='gray')"
   ]
  },
  {
   "cell_type": "code",
   "execution_count": 8,
   "metadata": {},
   "outputs": [
    {
     "name": "stdout",
     "output_type": "stream",
     "text": [
      "[0. 1. 0. 0. 0. 0. 0. 0. 0. 0.]\n"
     ]
    }
   ],
   "source": [
    "#one-hot encode target column\n",
    "Y = to_categorical(Y)\n",
    "print(Y[0])"
   ]
  },
  {
   "cell_type": "code",
   "execution_count": 9,
   "metadata": {},
   "outputs": [],
   "source": [
    "#X_train, X_test, y_train, y_test = train_test_split(X, Y, test_size=0.1) # <<-- do that for each model training separately"
   ]
  },
  {
   "cell_type": "markdown",
   "metadata": {},
   "source": [
    "# 3. Preprocess data\n",
    "\n",
    "Here I'm generating slight variations of original images for each iteration to reduce overfitting and to learn more general representation of categories."
   ]
  },
  {
   "cell_type": "code",
   "execution_count": 10,
   "metadata": {},
   "outputs": [],
   "source": [
    "# rotations, translations, zoom\n",
    "image_generator = ImageDataGenerator(\n",
    "    rotation_range = 10, \n",
    "    width_shift_range = 0.1, \n",
    "    height_shift_range = 0.1,\n",
    "    zoom_range = 0.1)\n",
    "#image_generator.fit(X_train)"
   ]
  },
  {
   "cell_type": "markdown",
   "metadata": {},
   "source": [
    "# 4. Create models"
   ]
  },
  {
   "cell_type": "code",
   "execution_count": 11,
   "metadata": {},
   "outputs": [],
   "source": [
    "input_shape = X[0,:,:,:].shape\n",
    "model_input = Input(shape=input_shape)"
   ]
  },
  {
   "cell_type": "code",
   "execution_count": 12,
   "metadata": {},
   "outputs": [],
   "source": [
    "def model_cpga(model_input):\n",
    "    #add model layers\n",
    "    x = Conv2D(96, kernel_size=(3, 3), activation='relu', padding='same')(model_input)\n",
    "    x = Conv2D(96, kernel_size=(3, 3), activation='relu', padding='same')(x)\n",
    "    x = Conv2D(96, kernel_size=(3, 3), activation='relu', padding='same')(x)\n",
    "    x = pooling.MaxPool2D(pool_size=(3, 3), strides = 2)(x)\n",
    "    x = Conv2D(192, kernel_size=(3, 3), activation='relu', padding='same')(x)\n",
    "    x = Conv2D(192, kernel_size=(3, 3), activation='relu', padding='same')(x)\n",
    "    x = Conv2D(192, kernel_size=(3, 3), activation='relu', padding='same')(x)\n",
    "    x = pooling.MaxPool2D(pool_size=(3, 3), strides = 2)(x)\n",
    "    x = Conv2D(192, kernel_size=(3, 3), activation='relu', padding='same')(x)\n",
    "    x = Conv2D(192, kernel_size=(1, 1), activation='relu', padding='same')(x)\n",
    "    x = Conv2D(10, kernel_size=(1, 1))(x)\n",
    "    x = GlobalAveragePooling2D()(x)\n",
    "    x = Activation(activation='softmax')(x)\n",
    "    \n",
    "    #create model\n",
    "    model = Model(model_input, x, name='ConvPool-GlobalAverage')\n",
    "    return model"
   ]
  },
  {
   "cell_type": "code",
   "execution_count": 13,
   "metadata": {},
   "outputs": [],
   "source": [
    "def model_convpool():\n",
    "    #add model layers\n",
    "    x = Conv2D(32, kernel_size=3, activation='relu', padding='same')(model_input)\n",
    "    x = Conv2D(32, kernel_size=3, activation='relu', padding='same')(x)\n",
    "    x = pooling.MaxPool2D()(x)\n",
    "    x = Conv2D(64, kernel_size=3, activation='relu', padding='same')(x)\n",
    "    x = Conv2D(64, kernel_size=3, activation='relu', padding='same')(x)\n",
    "    x = pooling.MaxPool2D()(x)\n",
    "    x = Conv2D(128, kernel_size=3, activation='relu', padding='same')(x)\n",
    "    x = Conv2D(128, kernel_size=3, activation='relu', padding='same')(x)\n",
    "    x = Conv2D(128, kernel_size=3, activation='relu', padding='same')(x)\n",
    "    x = pooling.MaxPool2D()(x)\n",
    "    x = Flatten()(x)\n",
    "    x = Dense(2048, activation='relu')(x)\n",
    "    x = Dropout(0.5)(x)\n",
    "    x = Dense(2048, activation='relu')(x)\n",
    "    x = Dropout(0.5)(x)\n",
    "    x = Dense(10, activation='softmax')(x)\n",
    "    \n",
    "    #create model\n",
    "    model = Model(model_input, x, name='ConvPool')\n",
    "    return model"
   ]
  },
  {
   "cell_type": "code",
   "execution_count": 14,
   "metadata": {},
   "outputs": [],
   "source": [
    "def model_convpool2():\n",
    "    #add model layers\n",
    "    x = Conv2D(32, kernel_size=3, activation='relu', padding='same')(model_input)\n",
    "    x = Conv2D(32, kernel_size=3, activation='relu', padding='same')(x)\n",
    "    x = pooling.MaxPool2D()(x)\n",
    "    x = BatchNormalization()(x)\n",
    "    x = Conv2D(64, kernel_size=3, activation='relu', padding='same')(x)\n",
    "    x = Conv2D(64, kernel_size=3, activation='relu', padding='same')(x)\n",
    "    x = pooling.MaxPool2D()(x)\n",
    "    x = BatchNormalization()(x)\n",
    "    x = Conv2D(128, kernel_size=3, activation='relu', padding='same')(x)\n",
    "    x = Conv2D(128, kernel_size=3, activation='relu', padding='same')(x)\n",
    "    x = Conv2D(128, kernel_size=3, activation='relu', padding='same')(x)\n",
    "    x = pooling.MaxPool2D()(x)\n",
    "    x = BatchNormalization()(x)\n",
    "    x = Flatten()(x)\n",
    "    x = Dense(2048, activation='relu')(x)\n",
    "    x = BatchNormalization()(x)\n",
    "    x = Dropout(0.5)(x)\n",
    "    x = Dense(2048, activation='relu')(x)\n",
    "    x = BatchNormalization()(x)\n",
    "    x = Dropout(0.5)(x)\n",
    "    x = Dense(10, activation='softmax')(x)\n",
    "    \n",
    "    #create model\n",
    "    model = Model(model_input, x, name='ConvPool2')\n",
    "    return model"
   ]
  },
  {
   "cell_type": "markdown",
   "metadata": {},
   "source": [
    "# 5. Compile and train"
   ]
  },
  {
   "cell_type": "code",
   "execution_count": 15,
   "metadata": {},
   "outputs": [],
   "source": [
    "def compile_and_train(model, num_epochs, seed):\n",
    "    X_train, X_test, y_train, y_test = train_test_split(X, Y, test_size=0.1, random_state=seed)\n",
    "    learning_rate_reduction = ReduceLROnPlateau(monitor='val_acc', patience=3, verbose=1, factor=0.5, min_lr=1e-9)\n",
    "    optimizer = Adam(lr=0.0001, beta_1=0.9, beta_2=0.999, epsilon=None, decay=0.0, amsgrad=True)\n",
    "    model.compile(optimizer=optimizer, loss='categorical_crossentropy', metrics=['accuracy'])\n",
    "    flow = image_generator.flow(X_train, y_train, batch_size=32)\n",
    "    history = model.fit_generator(flow, steps_per_epoch=len(X_train) / 32, epochs=num_epochs, \n",
    "                            validation_data=(X_test, y_test), verbose=1, callbacks=[learning_rate_reduction])\n",
    "    return history"
   ]
  },
  {
   "cell_type": "code",
   "execution_count": 16,
   "metadata": {},
   "outputs": [],
   "source": [
    "def plot_training(history):\n",
    "    # loss\n",
    "    fig, axs = plt.subplots(1, 2, figsize=(20,7))\n",
    "    axs[0].plot(history.history['loss'], label='loss')\n",
    "    axs[0].plot(history.history['val_loss'], label='val_loss')\n",
    "    axs[0].legend()\n",
    "    axs[0].set_yscale('log')\n",
    "\n",
    "    # accuracies\n",
    "    axs[1].plot(1 - np.array(history.history['acc']), label='1 - acc')\n",
    "    axs[1].plot(1 - np.array(history.history['val_acc']), label='1 - val_acc')\n",
    "    axs[1].legend()\n",
    "    axs[1].set_yscale('log')"
   ]
  },
  {
   "cell_type": "code",
   "execution_count": 17,
   "metadata": {},
   "outputs": [
    {
     "name": "stdout",
     "output_type": "stream",
     "text": [
      "Epoch 1/70\n",
      "1181/1181 [==============================] - 46s 39ms/step - loss: 0.3042 - acc: 0.9036 - val_loss: 0.0512 - val_acc: 0.9838\n",
      "Epoch 2/70\n",
      "1181/1181 [==============================] - 44s 38ms/step - loss: 0.0687 - acc: 0.9786 - val_loss: 0.0621 - val_acc: 0.9817\n",
      "Epoch 3/70\n",
      "1181/1181 [==============================] - 44s 38ms/step - loss: 0.0467 - acc: 0.9856 - val_loss: 0.0245 - val_acc: 0.9924\n",
      "Epoch 4/70\n",
      "1181/1181 [==============================] - 44s 38ms/step - loss: 0.0365 - acc: 0.9893 - val_loss: 0.0242 - val_acc: 0.9919\n",
      "Epoch 5/70\n",
      "1181/1181 [==============================] - 44s 38ms/step - loss: 0.0315 - acc: 0.9904 - val_loss: 0.0279 - val_acc: 0.9919\n",
      "Epoch 6/70\n",
      "1181/1181 [==============================] - 44s 38ms/step - loss: 0.0281 - acc: 0.9917 - val_loss: 0.0236 - val_acc: 0.9929\n",
      "Epoch 7/70\n",
      "1181/1181 [==============================] - 44s 38ms/step - loss: 0.0226 - acc: 0.9927 - val_loss: 0.0211 - val_acc: 0.9933\n",
      "Epoch 8/70\n",
      "1181/1181 [==============================] - 44s 38ms/step - loss: 0.0220 - acc: 0.9931 - val_loss: 0.0220 - val_acc: 0.9940\n",
      "Epoch 9/70\n",
      "1181/1181 [==============================] - 44s 38ms/step - loss: 0.0197 - acc: 0.9942 - val_loss: 0.0234 - val_acc: 0.9933\n",
      "Epoch 10/70\n",
      "1181/1181 [==============================] - 44s 38ms/step - loss: 0.0175 - acc: 0.9944 - val_loss: 0.0170 - val_acc: 0.9950\n",
      "Epoch 11/70\n",
      "1181/1181 [==============================] - 44s 38ms/step - loss: 0.0159 - acc: 0.9947 - val_loss: 0.0178 - val_acc: 0.9952\n",
      "Epoch 12/70\n",
      "1181/1181 [==============================] - 44s 38ms/step - loss: 0.0146 - acc: 0.9953 - val_loss: 0.0246 - val_acc: 0.9933\n",
      "Epoch 13/70\n",
      "1181/1181 [==============================] - 45s 38ms/step - loss: 0.0136 - acc: 0.9956 - val_loss: 0.0193 - val_acc: 0.9950\n",
      "Epoch 14/70\n",
      "1181/1181 [==============================] - 45s 38ms/step - loss: 0.0125 - acc: 0.9957 - val_loss: 0.0215 - val_acc: 0.9962\n",
      "Epoch 15/70\n",
      "1181/1181 [==============================] - 45s 38ms/step - loss: 0.0128 - acc: 0.9959 - val_loss: 0.0184 - val_acc: 0.9936\n",
      "Epoch 16/70\n",
      "1181/1181 [==============================] - 45s 38ms/step - loss: 0.0111 - acc: 0.9967 - val_loss: 0.0175 - val_acc: 0.9943\n",
      "Epoch 17/70\n",
      "1181/1181 [==============================] - 45s 38ms/step - loss: 0.0100 - acc: 0.9973 - val_loss: 0.0169 - val_acc: 0.9957\n",
      "\n",
      "Epoch 00017: ReduceLROnPlateau reducing learning rate to 4.99999987369e-05.\n",
      "Epoch 18/70\n",
      "1181/1181 [==============================] - 45s 38ms/step - loss: 0.0061 - acc: 0.9984 - val_loss: 0.0191 - val_acc: 0.9952\n",
      "Epoch 19/70\n",
      "1181/1181 [==============================] - 45s 38ms/step - loss: 0.0054 - acc: 0.9984 - val_loss: 0.0229 - val_acc: 0.9945\n",
      "Epoch 20/70\n",
      "1181/1181 [==============================] - 45s 38ms/step - loss: 0.0051 - acc: 0.9984 - val_loss: 0.0192 - val_acc: 0.9957\n",
      "\n",
      "Epoch 00020: ReduceLROnPlateau reducing learning rate to 2.49999993684e-05.\n",
      "Epoch 21/70\n",
      "1181/1181 [==============================] - 45s 38ms/step - loss: 0.0043 - acc: 0.9986 - val_loss: 0.0167 - val_acc: 0.9955\n",
      "Epoch 22/70\n",
      "1181/1181 [==============================] - 45s 38ms/step - loss: 0.0043 - acc: 0.9988 - val_loss: 0.0179 - val_acc: 0.9960\n",
      "Epoch 23/70\n",
      "1181/1181 [==============================] - 45s 38ms/step - loss: 0.0038 - acc: 0.9988 - val_loss: 0.0188 - val_acc: 0.9952\n",
      "\n",
      "Epoch 00023: ReduceLROnPlateau reducing learning rate to 1.24999996842e-05.\n",
      "Epoch 24/70\n",
      "1181/1181 [==============================] - 45s 38ms/step - loss: 0.0028 - acc: 0.9992 - val_loss: 0.0194 - val_acc: 0.9952\n",
      "Epoch 25/70\n",
      "1181/1181 [==============================] - 45s 38ms/step - loss: 0.0032 - acc: 0.9991 - val_loss: 0.0191 - val_acc: 0.9955\n",
      "Epoch 26/70\n",
      "1181/1181 [==============================] - 45s 38ms/step - loss: 0.0024 - acc: 0.9994 - val_loss: 0.0191 - val_acc: 0.9957\n",
      "\n",
      "Epoch 00026: ReduceLROnPlateau reducing learning rate to 6.24999984211e-06.\n",
      "Epoch 27/70\n",
      "1181/1181 [==============================] - 45s 38ms/step - loss: 0.0025 - acc: 0.9992 - val_loss: 0.0196 - val_acc: 0.9952\n",
      "Epoch 28/70\n",
      "1181/1181 [==============================] - 45s 38ms/step - loss: 0.0028 - acc: 0.9993 - val_loss: 0.0191 - val_acc: 0.9952\n",
      "Epoch 29/70\n",
      "1181/1181 [==============================] - 45s 38ms/step - loss: 0.0024 - acc: 0.9994 - val_loss: 0.0193 - val_acc: 0.9952\n",
      "\n",
      "Epoch 00029: ReduceLROnPlateau reducing learning rate to 3.12499992106e-06.\n",
      "Epoch 30/70\n",
      "1181/1181 [==============================] - 45s 38ms/step - loss: 0.0022 - acc: 0.9995 - val_loss: 0.0192 - val_acc: 0.9952\n",
      "Epoch 31/70\n",
      "1181/1181 [==============================] - 45s 38ms/step - loss: 0.0022 - acc: 0.9995 - val_loss: 0.0193 - val_acc: 0.9955\n",
      "Epoch 32/70\n",
      "1181/1181 [==============================] - 45s 38ms/step - loss: 0.0021 - acc: 0.9993 - val_loss: 0.0190 - val_acc: 0.9955\n",
      "\n",
      "Epoch 00032: ReduceLROnPlateau reducing learning rate to 1.56249996053e-06.\n",
      "Epoch 33/70\n",
      "1181/1181 [==============================] - 45s 38ms/step - loss: 0.0024 - acc: 0.9995 - val_loss: 0.0191 - val_acc: 0.9955\n",
      "Epoch 34/70\n",
      "1181/1181 [==============================] - 45s 38ms/step - loss: 0.0022 - acc: 0.9992 - val_loss: 0.0191 - val_acc: 0.9955\n",
      "Epoch 35/70\n",
      "1181/1181 [==============================] - 45s 38ms/step - loss: 0.0027 - acc: 0.9992 - val_loss: 0.0193 - val_acc: 0.9955\n",
      "\n",
      "Epoch 00035: ReduceLROnPlateau reducing learning rate to 7.81249980264e-07.\n",
      "Epoch 36/70\n",
      "1181/1181 [==============================] - 45s 38ms/step - loss: 0.0021 - acc: 0.9996 - val_loss: 0.0194 - val_acc: 0.9955\n",
      "Epoch 37/70\n",
      "1181/1181 [==============================] - 45s 38ms/step - loss: 0.0021 - acc: 0.9994 - val_loss: 0.0195 - val_acc: 0.9955\n",
      "Epoch 38/70\n",
      "1181/1181 [==============================] - 45s 38ms/step - loss: 0.0024 - acc: 0.9995 - val_loss: 0.0194 - val_acc: 0.9955\n",
      "\n",
      "Epoch 00038: ReduceLROnPlateau reducing learning rate to 3.90624990132e-07.\n",
      "Epoch 39/70\n",
      "1181/1181 [==============================] - 45s 38ms/step - loss: 0.0024 - acc: 0.9993 - val_loss: 0.0195 - val_acc: 0.9955\n",
      "Epoch 40/70\n",
      "1181/1181 [==============================] - 45s 38ms/step - loss: 0.0023 - acc: 0.9994 - val_loss: 0.0195 - val_acc: 0.9955\n",
      "Epoch 41/70\n",
      "1181/1181 [==============================] - 45s 38ms/step - loss: 0.0024 - acc: 0.9994 - val_loss: 0.0194 - val_acc: 0.9955\n",
      "\n",
      "Epoch 00041: ReduceLROnPlateau reducing learning rate to 1.95312495066e-07.\n",
      "Epoch 42/70\n",
      "1181/1181 [==============================] - 45s 38ms/step - loss: 0.0021 - acc: 0.9995 - val_loss: 0.0194 - val_acc: 0.9955\n",
      "Epoch 43/70\n",
      "1181/1181 [==============================] - 45s 38ms/step - loss: 0.0023 - acc: 0.9994 - val_loss: 0.0195 - val_acc: 0.9955\n",
      "Epoch 44/70\n",
      "1181/1181 [==============================] - 45s 38ms/step - loss: 0.0022 - acc: 0.9994 - val_loss: 0.0195 - val_acc: 0.9955\n",
      "\n",
      "Epoch 00044: ReduceLROnPlateau reducing learning rate to 9.7656247533e-08.\n",
      "Epoch 45/70\n",
      "1181/1181 [==============================] - 45s 38ms/step - loss: 0.0022 - acc: 0.9993 - val_loss: 0.0195 - val_acc: 0.9955\n",
      "Epoch 46/70\n",
      "1181/1181 [==============================] - 45s 38ms/step - loss: 0.0021 - acc: 0.9996 - val_loss: 0.0195 - val_acc: 0.9955\n",
      "Epoch 47/70\n",
      "1181/1181 [==============================] - 45s 38ms/step - loss: 0.0021 - acc: 0.9995 - val_loss: 0.0195 - val_acc: 0.9955\n",
      "\n",
      "Epoch 00047: ReduceLROnPlateau reducing learning rate to 4.88281237665e-08.\n",
      "Epoch 48/70\n",
      "1181/1181 [==============================] - 45s 38ms/step - loss: 0.0024 - acc: 0.9993 - val_loss: 0.0195 - val_acc: 0.9955\n",
      "Epoch 49/70\n",
      "1181/1181 [==============================] - 45s 38ms/step - loss: 0.0024 - acc: 0.9995 - val_loss: 0.0195 - val_acc: 0.9955\n",
      "Epoch 50/70\n",
      "1181/1181 [==============================] - 45s 38ms/step - loss: 0.0022 - acc: 0.9996 - val_loss: 0.0195 - val_acc: 0.9955\n",
      "\n",
      "Epoch 00050: ReduceLROnPlateau reducing learning rate to 2.44140618832e-08.\n",
      "Epoch 51/70\n",
      "1181/1181 [==============================] - 45s 38ms/step - loss: 0.0022 - acc: 0.9995 - val_loss: 0.0195 - val_acc: 0.9955\n",
      "Epoch 52/70\n",
      "1181/1181 [==============================] - 45s 38ms/step - loss: 0.0024 - acc: 0.9994 - val_loss: 0.0195 - val_acc: 0.9955\n",
      "Epoch 53/70\n",
      "1181/1181 [==============================] - 45s 38ms/step - loss: 0.0020 - acc: 0.9994 - val_loss: 0.0195 - val_acc: 0.9955\n",
      "\n",
      "Epoch 00053: ReduceLROnPlateau reducing learning rate to 1.22070309416e-08.\n",
      "Epoch 54/70\n"
     ]
    },
    {
     "name": "stdout",
     "output_type": "stream",
     "text": [
      "1181/1181 [==============================] - 45s 38ms/step - loss: 0.0021 - acc: 0.9995 - val_loss: 0.0195 - val_acc: 0.9955\n",
      "Epoch 55/70\n",
      "1181/1181 [==============================] - 45s 38ms/step - loss: 0.0023 - acc: 0.9994 - val_loss: 0.0195 - val_acc: 0.9955\n",
      "Epoch 56/70\n",
      "1181/1181 [==============================] - 45s 38ms/step - loss: 0.0021 - acc: 0.9995 - val_loss: 0.0195 - val_acc: 0.9955\n",
      "\n",
      "Epoch 00056: ReduceLROnPlateau reducing learning rate to 6.10351547081e-09.\n",
      "Epoch 57/70\n",
      "1181/1181 [==============================] - 45s 38ms/step - loss: 0.0023 - acc: 0.9994 - val_loss: 0.0195 - val_acc: 0.9955\n",
      "Epoch 58/70\n",
      "1181/1181 [==============================] - 45s 38ms/step - loss: 0.0023 - acc: 0.9992 - val_loss: 0.0195 - val_acc: 0.9955\n",
      "Epoch 59/70\n",
      "1181/1181 [==============================] - 45s 38ms/step - loss: 0.0022 - acc: 0.9995 - val_loss: 0.0195 - val_acc: 0.9955\n",
      "\n",
      "Epoch 00059: ReduceLROnPlateau reducing learning rate to 3.05175773541e-09.\n",
      "Epoch 60/70\n",
      "1181/1181 [==============================] - 45s 38ms/step - loss: 0.0023 - acc: 0.9994 - val_loss: 0.0195 - val_acc: 0.9955\n",
      "Epoch 61/70\n",
      "1181/1181 [==============================] - 45s 38ms/step - loss: 0.0020 - acc: 0.9995 - val_loss: 0.0195 - val_acc: 0.9955\n",
      "Epoch 62/70\n",
      "1181/1181 [==============================] - 45s 38ms/step - loss: 0.0025 - acc: 0.9994 - val_loss: 0.0195 - val_acc: 0.9955\n",
      "\n",
      "Epoch 00062: ReduceLROnPlateau reducing learning rate to 1.5258788677e-09.\n",
      "Epoch 63/70\n",
      "1181/1181 [==============================] - 45s 38ms/step - loss: 0.0023 - acc: 0.9993 - val_loss: 0.0195 - val_acc: 0.9955\n",
      "Epoch 64/70\n",
      "1181/1181 [==============================] - 45s 38ms/step - loss: 0.0021 - acc: 0.9995 - val_loss: 0.0195 - val_acc: 0.9955\n",
      "Epoch 65/70\n",
      "1181/1181 [==============================] - 45s 38ms/step - loss: 0.0022 - acc: 0.9993 - val_loss: 0.0195 - val_acc: 0.9955\n",
      "\n",
      "Epoch 00065: ReduceLROnPlateau reducing learning rate to 1e-09.\n",
      "Epoch 66/70\n",
      "1181/1181 [==============================] - 45s 38ms/step - loss: 0.0024 - acc: 0.9993 - val_loss: 0.0195 - val_acc: 0.9955\n",
      "Epoch 67/70\n",
      "1181/1181 [==============================] - 45s 38ms/step - loss: 0.0023 - acc: 0.9994 - val_loss: 0.0195 - val_acc: 0.9955\n",
      "Epoch 68/70\n",
      "1181/1181 [==============================] - 45s 38ms/step - loss: 0.0021 - acc: 0.9995 - val_loss: 0.0195 - val_acc: 0.9955\n",
      "Epoch 69/70\n",
      "1181/1181 [==============================] - 45s 38ms/step - loss: 0.0024 - acc: 0.9994 - val_loss: 0.0195 - val_acc: 0.9955\n",
      "Epoch 70/70\n",
      "1181/1181 [==============================] - 45s 38ms/step - loss: 0.0023 - acc: 0.9994 - val_loss: 0.0195 - val_acc: 0.9955\n"
     ]
    }
   ],
   "source": [
    "model1 = model_cpga(model_input)\n",
    "r1 = compile_and_train(model1, EPOCHS, 1)"
   ]
  },
  {
   "cell_type": "code",
   "execution_count": 18,
   "metadata": {},
   "outputs": [
    {
     "name": "stdout",
     "output_type": "stream",
     "text": [
      "Epoch 1/70\n",
      "1181/1181 [==============================] - 30s 25ms/step - loss: 0.4108 - acc: 0.8676 - val_loss: 0.0800 - val_acc: 0.9757\n",
      "Epoch 2/70\n",
      "1181/1181 [==============================] - 29s 24ms/step - loss: 0.1002 - acc: 0.9691 - val_loss: 0.0603 - val_acc: 0.9812\n",
      "Epoch 3/70\n",
      "1181/1181 [==============================] - 29s 24ms/step - loss: 0.0783 - acc: 0.9764 - val_loss: 0.0379 - val_acc: 0.9893\n",
      "Epoch 4/70\n",
      "1181/1181 [==============================] - 29s 24ms/step - loss: 0.0566 - acc: 0.9832 - val_loss: 0.0381 - val_acc: 0.9895\n",
      "Epoch 5/70\n",
      "1181/1181 [==============================] - 29s 24ms/step - loss: 0.0481 - acc: 0.9853 - val_loss: 0.0308 - val_acc: 0.9914\n",
      "Epoch 6/70\n",
      "1181/1181 [==============================] - 29s 24ms/step - loss: 0.0428 - acc: 0.9868 - val_loss: 0.0313 - val_acc: 0.9912\n",
      "Epoch 7/70\n",
      "1181/1181 [==============================] - 29s 24ms/step - loss: 0.0373 - acc: 0.9890 - val_loss: 0.0228 - val_acc: 0.9926\n",
      "Epoch 8/70\n",
      "1181/1181 [==============================] - 29s 24ms/step - loss: 0.0331 - acc: 0.9896 - val_loss: 0.0292 - val_acc: 0.9921\n",
      "Epoch 9/70\n",
      "1181/1181 [==============================] - 29s 24ms/step - loss: 0.0329 - acc: 0.9903 - val_loss: 0.0229 - val_acc: 0.9938\n",
      "Epoch 10/70\n",
      "1181/1181 [==============================] - 29s 25ms/step - loss: 0.0306 - acc: 0.9908 - val_loss: 0.0265 - val_acc: 0.9931\n",
      "Epoch 11/70\n",
      "1181/1181 [==============================] - 29s 24ms/step - loss: 0.0277 - acc: 0.9918 - val_loss: 0.0252 - val_acc: 0.9931\n",
      "Epoch 12/70\n",
      "1181/1181 [==============================] - 29s 25ms/step - loss: 0.0247 - acc: 0.9924 - val_loss: 0.0203 - val_acc: 0.9931\n",
      "\n",
      "Epoch 00012: ReduceLROnPlateau reducing learning rate to 4.99999987369e-05.\n",
      "Epoch 13/70\n",
      "1181/1181 [==============================] - 29s 24ms/step - loss: 0.0192 - acc: 0.9937 - val_loss: 0.0207 - val_acc: 0.9950\n",
      "Epoch 14/70\n",
      "1181/1181 [==============================] - 29s 25ms/step - loss: 0.0195 - acc: 0.9939 - val_loss: 0.0191 - val_acc: 0.9955\n",
      "Epoch 15/70\n",
      "1181/1181 [==============================] - 29s 25ms/step - loss: 0.0168 - acc: 0.9947 - val_loss: 0.0218 - val_acc: 0.9945\n",
      "Epoch 16/70\n",
      "1181/1181 [==============================] - 29s 25ms/step - loss: 0.0147 - acc: 0.9955 - val_loss: 0.0177 - val_acc: 0.9955\n",
      "Epoch 17/70\n",
      "1181/1181 [==============================] - 29s 24ms/step - loss: 0.0162 - acc: 0.9951 - val_loss: 0.0196 - val_acc: 0.9955\n",
      "\n",
      "Epoch 00017: ReduceLROnPlateau reducing learning rate to 2.49999993684e-05.\n",
      "Epoch 18/70\n",
      "1181/1181 [==============================] - 29s 24ms/step - loss: 0.0132 - acc: 0.9958 - val_loss: 0.0187 - val_acc: 0.9950\n",
      "Epoch 19/70\n",
      "1181/1181 [==============================] - 29s 24ms/step - loss: 0.0131 - acc: 0.9957 - val_loss: 0.0201 - val_acc: 0.9945\n",
      "Epoch 20/70\n",
      "1181/1181 [==============================] - 29s 24ms/step - loss: 0.0131 - acc: 0.9962 - val_loss: 0.0183 - val_acc: 0.9964\n",
      "Epoch 21/70\n",
      "1181/1181 [==============================] - 29s 24ms/step - loss: 0.0121 - acc: 0.9961 - val_loss: 0.0183 - val_acc: 0.9955\n",
      "Epoch 22/70\n",
      "1181/1181 [==============================] - 29s 24ms/step - loss: 0.0115 - acc: 0.9963 - val_loss: 0.0183 - val_acc: 0.9955\n",
      "Epoch 23/70\n",
      "1181/1181 [==============================] - 29s 25ms/step - loss: 0.0106 - acc: 0.9965 - val_loss: 0.0182 - val_acc: 0.9955\n",
      "\n",
      "Epoch 00023: ReduceLROnPlateau reducing learning rate to 1.24999996842e-05.\n",
      "Epoch 24/70\n",
      "1181/1181 [==============================] - 29s 25ms/step - loss: 0.0101 - acc: 0.9969 - val_loss: 0.0172 - val_acc: 0.9957\n",
      "Epoch 25/70\n",
      "1181/1181 [==============================] - 29s 24ms/step - loss: 0.0098 - acc: 0.9969 - val_loss: 0.0171 - val_acc: 0.9960\n",
      "Epoch 26/70\n",
      "1181/1181 [==============================] - 29s 24ms/step - loss: 0.0101 - acc: 0.9966 - val_loss: 0.0187 - val_acc: 0.9962\n",
      "\n",
      "Epoch 00026: ReduceLROnPlateau reducing learning rate to 6.24999984211e-06.\n",
      "Epoch 27/70\n",
      "1181/1181 [==============================] - 29s 25ms/step - loss: 0.0092 - acc: 0.9972 - val_loss: 0.0182 - val_acc: 0.9960\n",
      "Epoch 28/70\n",
      "1181/1181 [==============================] - 29s 25ms/step - loss: 0.0095 - acc: 0.9970 - val_loss: 0.0184 - val_acc: 0.9957\n",
      "Epoch 29/70\n",
      "1181/1181 [==============================] - 29s 25ms/step - loss: 0.0090 - acc: 0.9974 - val_loss: 0.0183 - val_acc: 0.9960\n",
      "\n",
      "Epoch 00029: ReduceLROnPlateau reducing learning rate to 3.12499992106e-06.\n",
      "Epoch 30/70\n",
      "1181/1181 [==============================] - 29s 24ms/step - loss: 0.0080 - acc: 0.9978 - val_loss: 0.0178 - val_acc: 0.9957\n",
      "Epoch 31/70\n",
      "1181/1181 [==============================] - 29s 24ms/step - loss: 0.0090 - acc: 0.9970 - val_loss: 0.0181 - val_acc: 0.9960\n",
      "Epoch 32/70\n",
      "1181/1181 [==============================] - 29s 24ms/step - loss: 0.0092 - acc: 0.9972 - val_loss: 0.0177 - val_acc: 0.9955\n",
      "\n",
      "Epoch 00032: ReduceLROnPlateau reducing learning rate to 1.56249996053e-06.\n",
      "Epoch 33/70\n",
      "1181/1181 [==============================] - 29s 25ms/step - loss: 0.0094 - acc: 0.9970 - val_loss: 0.0176 - val_acc: 0.9955\n",
      "Epoch 34/70\n",
      "1181/1181 [==============================] - 29s 24ms/step - loss: 0.0081 - acc: 0.9975 - val_loss: 0.0176 - val_acc: 0.9955\n",
      "Epoch 35/70\n",
      "1181/1181 [==============================] - 29s 24ms/step - loss: 0.0082 - acc: 0.9971 - val_loss: 0.0171 - val_acc: 0.9955\n",
      "\n",
      "Epoch 00035: ReduceLROnPlateau reducing learning rate to 7.81249980264e-07.\n",
      "Epoch 36/70\n",
      "1181/1181 [==============================] - 29s 24ms/step - loss: 0.0088 - acc: 0.9972 - val_loss: 0.0174 - val_acc: 0.9955\n",
      "Epoch 37/70\n",
      "1181/1181 [==============================] - 29s 24ms/step - loss: 0.0082 - acc: 0.9971 - val_loss: 0.0178 - val_acc: 0.9960\n",
      "Epoch 38/70\n",
      "1181/1181 [==============================] - 29s 25ms/step - loss: 0.0088 - acc: 0.9973 - val_loss: 0.0179 - val_acc: 0.9960\n",
      "\n",
      "Epoch 00038: ReduceLROnPlateau reducing learning rate to 3.90624990132e-07.\n",
      "Epoch 39/70\n",
      "1181/1181 [==============================] - 29s 24ms/step - loss: 0.0088 - acc: 0.9974 - val_loss: 0.0179 - val_acc: 0.9960\n",
      "Epoch 40/70\n",
      "1181/1181 [==============================] - 29s 25ms/step - loss: 0.0083 - acc: 0.9975 - val_loss: 0.0180 - val_acc: 0.9960\n",
      "Epoch 41/70\n",
      "1181/1181 [==============================] - 29s 24ms/step - loss: 0.0088 - acc: 0.9973 - val_loss: 0.0179 - val_acc: 0.9960\n",
      "\n",
      "Epoch 00041: ReduceLROnPlateau reducing learning rate to 1.95312495066e-07.\n",
      "Epoch 42/70\n",
      "1181/1181 [==============================] - 29s 24ms/step - loss: 0.0080 - acc: 0.9976 - val_loss: 0.0179 - val_acc: 0.9960\n",
      "Epoch 43/70\n",
      "1181/1181 [==============================] - 29s 25ms/step - loss: 0.0082 - acc: 0.9975 - val_loss: 0.0179 - val_acc: 0.9960\n",
      "Epoch 44/70\n",
      "1181/1181 [==============================] - 29s 24ms/step - loss: 0.0085 - acc: 0.9972 - val_loss: 0.0179 - val_acc: 0.9960\n",
      "\n",
      "Epoch 00044: ReduceLROnPlateau reducing learning rate to 9.7656247533e-08.\n",
      "Epoch 45/70\n",
      "1181/1181 [==============================] - 29s 25ms/step - loss: 0.0087 - acc: 0.9972 - val_loss: 0.0180 - val_acc: 0.9960\n",
      "Epoch 46/70\n",
      "1181/1181 [==============================] - 29s 24ms/step - loss: 0.0102 - acc: 0.9966 - val_loss: 0.0180 - val_acc: 0.9960\n",
      "Epoch 47/70\n",
      "1181/1181 [==============================] - 29s 24ms/step - loss: 0.0086 - acc: 0.9974 - val_loss: 0.0180 - val_acc: 0.9960\n",
      "\n",
      "Epoch 00047: ReduceLROnPlateau reducing learning rate to 4.88281237665e-08.\n",
      "Epoch 48/70\n",
      "1181/1181 [==============================] - 29s 25ms/step - loss: 0.0087 - acc: 0.9975 - val_loss: 0.0180 - val_acc: 0.9960\n",
      "Epoch 49/70\n",
      "1181/1181 [==============================] - 29s 25ms/step - loss: 0.0085 - acc: 0.9974 - val_loss: 0.0180 - val_acc: 0.9957\n",
      "Epoch 50/70\n",
      "1181/1181 [==============================] - 29s 24ms/step - loss: 0.0087 - acc: 0.9974 - val_loss: 0.0180 - val_acc: 0.9957\n",
      "\n",
      "Epoch 00050: ReduceLROnPlateau reducing learning rate to 2.44140618832e-08.\n",
      "Epoch 51/70\n",
      "1181/1181 [==============================] - 29s 24ms/step - loss: 0.0084 - acc: 0.9976 - val_loss: 0.0180 - val_acc: 0.9957\n",
      "Epoch 52/70\n",
      "1181/1181 [==============================] - 29s 25ms/step - loss: 0.0095 - acc: 0.9972 - val_loss: 0.0180 - val_acc: 0.9957\n",
      "Epoch 53/70\n",
      "1181/1181 [==============================] - 29s 24ms/step - loss: 0.0079 - acc: 0.9978 - val_loss: 0.0180 - val_acc: 0.9957\n",
      "\n",
      "Epoch 00053: ReduceLROnPlateau reducing learning rate to 1.22070309416e-08.\n",
      "Epoch 54/70\n"
     ]
    },
    {
     "name": "stdout",
     "output_type": "stream",
     "text": [
      "1181/1181 [==============================] - 29s 24ms/step - loss: 0.0083 - acc: 0.9977 - val_loss: 0.0180 - val_acc: 0.9957\n",
      "Epoch 55/70\n",
      "1181/1181 [==============================] - 29s 24ms/step - loss: 0.0086 - acc: 0.9973 - val_loss: 0.0180 - val_acc: 0.9957\n",
      "Epoch 56/70\n",
      "1181/1181 [==============================] - 29s 24ms/step - loss: 0.0085 - acc: 0.9972 - val_loss: 0.0180 - val_acc: 0.9957\n",
      "\n",
      "Epoch 00056: ReduceLROnPlateau reducing learning rate to 6.10351547081e-09.\n",
      "Epoch 57/70\n",
      "1181/1181 [==============================] - 29s 24ms/step - loss: 0.0095 - acc: 0.9969 - val_loss: 0.0180 - val_acc: 0.9957\n",
      "Epoch 58/70\n",
      "1181/1181 [==============================] - 29s 24ms/step - loss: 0.0080 - acc: 0.9975 - val_loss: 0.0180 - val_acc: 0.9957\n",
      "Epoch 59/70\n",
      "1181/1181 [==============================] - 29s 24ms/step - loss: 0.0078 - acc: 0.9978 - val_loss: 0.0180 - val_acc: 0.9957\n",
      "\n",
      "Epoch 00059: ReduceLROnPlateau reducing learning rate to 3.05175773541e-09.\n",
      "Epoch 60/70\n",
      "1181/1181 [==============================] - 29s 24ms/step - loss: 0.0090 - acc: 0.9971 - val_loss: 0.0180 - val_acc: 0.9957\n",
      "Epoch 61/70\n",
      "1181/1181 [==============================] - 29s 24ms/step - loss: 0.0096 - acc: 0.9970 - val_loss: 0.0180 - val_acc: 0.9957\n",
      "Epoch 62/70\n",
      "1181/1181 [==============================] - 29s 24ms/step - loss: 0.0086 - acc: 0.9972 - val_loss: 0.0180 - val_acc: 0.9957\n",
      "\n",
      "Epoch 00062: ReduceLROnPlateau reducing learning rate to 1.5258788677e-09.\n",
      "Epoch 63/70\n",
      "1181/1181 [==============================] - 29s 24ms/step - loss: 0.0089 - acc: 0.9977 - val_loss: 0.0180 - val_acc: 0.9957\n",
      "Epoch 64/70\n",
      "1181/1181 [==============================] - 29s 24ms/step - loss: 0.0079 - acc: 0.9977 - val_loss: 0.0180 - val_acc: 0.9957\n",
      "Epoch 65/70\n",
      "1181/1181 [==============================] - 29s 24ms/step - loss: 0.0075 - acc: 0.9977 - val_loss: 0.0180 - val_acc: 0.9957\n",
      "\n",
      "Epoch 00065: ReduceLROnPlateau reducing learning rate to 1e-09.\n",
      "Epoch 66/70\n",
      "1181/1181 [==============================] - 29s 24ms/step - loss: 0.0092 - acc: 0.9974 - val_loss: 0.0180 - val_acc: 0.9957\n",
      "Epoch 67/70\n",
      "1181/1181 [==============================] - 29s 24ms/step - loss: 0.0087 - acc: 0.9974 - val_loss: 0.0180 - val_acc: 0.9957\n",
      "Epoch 68/70\n",
      "1181/1181 [==============================] - 29s 24ms/step - loss: 0.0089 - acc: 0.9974 - val_loss: 0.0180 - val_acc: 0.9957\n",
      "Epoch 69/70\n",
      "1181/1181 [==============================] - 29s 24ms/step - loss: 0.0092 - acc: 0.9969 - val_loss: 0.0180 - val_acc: 0.9957\n",
      "Epoch 70/70\n",
      "1181/1181 [==============================] - 29s 24ms/step - loss: 0.0082 - acc: 0.9975 - val_loss: 0.0180 - val_acc: 0.9957\n"
     ]
    }
   ],
   "source": [
    "model2 = model_convpool()\n",
    "r2 = compile_and_train(model2, EPOCHS, 2)"
   ]
  },
  {
   "cell_type": "code",
   "execution_count": 19,
   "metadata": {},
   "outputs": [
    {
     "name": "stdout",
     "output_type": "stream",
     "text": [
      "Epoch 1/70\n",
      "1181/1181 [==============================] - 34s 29ms/step - loss: 0.4622 - acc: 0.8627 - val_loss: 0.1829 - val_acc: 0.9514\n",
      "Epoch 2/70\n",
      "1181/1181 [==============================] - 32s 27ms/step - loss: 0.1611 - acc: 0.9540 - val_loss: 0.0964 - val_acc: 0.9740\n",
      "Epoch 3/70\n",
      "1181/1181 [==============================] - 32s 27ms/step - loss: 0.1188 - acc: 0.9666 - val_loss: 0.0464 - val_acc: 0.9876\n",
      "Epoch 4/70\n",
      "1181/1181 [==============================] - 32s 27ms/step - loss: 0.0946 - acc: 0.9726 - val_loss: 0.0554 - val_acc: 0.9838\n",
      "Epoch 5/70\n",
      "1181/1181 [==============================] - 32s 27ms/step - loss: 0.0801 - acc: 0.9766 - val_loss: 0.0350 - val_acc: 0.9898\n",
      "Epoch 6/70\n",
      "1181/1181 [==============================] - 32s 27ms/step - loss: 0.0718 - acc: 0.9794 - val_loss: 0.0409 - val_acc: 0.9879\n",
      "Epoch 7/70\n",
      "1181/1181 [==============================] - 32s 27ms/step - loss: 0.0637 - acc: 0.9814 - val_loss: 0.0451 - val_acc: 0.9874\n",
      "Epoch 8/70\n",
      "1181/1181 [==============================] - 32s 27ms/step - loss: 0.0572 - acc: 0.9829 - val_loss: 0.0319 - val_acc: 0.9898\n",
      "\n",
      "Epoch 00008: ReduceLROnPlateau reducing learning rate to 4.99999987369e-05.\n",
      "Epoch 9/70\n",
      "1181/1181 [==============================] - 32s 27ms/step - loss: 0.0485 - acc: 0.9856 - val_loss: 0.0266 - val_acc: 0.9929\n",
      "Epoch 10/70\n",
      "1181/1181 [==============================] - 32s 27ms/step - loss: 0.0465 - acc: 0.9859 - val_loss: 0.0298 - val_acc: 0.9912\n",
      "Epoch 11/70\n",
      "1181/1181 [==============================] - 32s 27ms/step - loss: 0.0444 - acc: 0.9867 - val_loss: 0.0275 - val_acc: 0.9926\n",
      "Epoch 12/70\n",
      "1181/1181 [==============================] - 32s 27ms/step - loss: 0.0407 - acc: 0.9874 - val_loss: 0.0279 - val_acc: 0.9912\n",
      "\n",
      "Epoch 00012: ReduceLROnPlateau reducing learning rate to 2.49999993684e-05.\n",
      "Epoch 13/70\n",
      "1181/1181 [==============================] - 32s 27ms/step - loss: 0.0374 - acc: 0.9886 - val_loss: 0.0253 - val_acc: 0.9933\n",
      "Epoch 14/70\n",
      "1181/1181 [==============================] - 32s 27ms/step - loss: 0.0377 - acc: 0.9890 - val_loss: 0.0253 - val_acc: 0.9929\n",
      "Epoch 15/70\n",
      "1181/1181 [==============================] - 32s 27ms/step - loss: 0.0385 - acc: 0.9884 - val_loss: 0.0231 - val_acc: 0.9929\n",
      "Epoch 16/70\n",
      "1181/1181 [==============================] - 32s 27ms/step - loss: 0.0338 - acc: 0.9898 - val_loss: 0.0228 - val_acc: 0.9933\n",
      "\n",
      "Epoch 00016: ReduceLROnPlateau reducing learning rate to 1.24999996842e-05.\n",
      "Epoch 17/70\n",
      "1181/1181 [==============================] - 32s 27ms/step - loss: 0.0336 - acc: 0.9897 - val_loss: 0.0225 - val_acc: 0.9943\n",
      "Epoch 18/70\n",
      "1181/1181 [==============================] - 32s 27ms/step - loss: 0.0316 - acc: 0.9906 - val_loss: 0.0217 - val_acc: 0.9933\n",
      "Epoch 19/70\n",
      "1181/1181 [==============================] - 32s 27ms/step - loss: 0.0338 - acc: 0.9900 - val_loss: 0.0223 - val_acc: 0.9936\n",
      "Epoch 20/70\n",
      "1181/1181 [==============================] - 32s 27ms/step - loss: 0.0324 - acc: 0.9900 - val_loss: 0.0227 - val_acc: 0.9931\n",
      "\n",
      "Epoch 00020: ReduceLROnPlateau reducing learning rate to 6.24999984211e-06.\n",
      "Epoch 21/70\n",
      "1181/1181 [==============================] - 32s 27ms/step - loss: 0.0315 - acc: 0.9904 - val_loss: 0.0230 - val_acc: 0.9933\n",
      "Epoch 22/70\n",
      "1181/1181 [==============================] - 32s 27ms/step - loss: 0.0299 - acc: 0.9905 - val_loss: 0.0226 - val_acc: 0.9936\n",
      "Epoch 23/70\n",
      "1181/1181 [==============================] - 32s 27ms/step - loss: 0.0313 - acc: 0.9899 - val_loss: 0.0223 - val_acc: 0.9943\n",
      "\n",
      "Epoch 00023: ReduceLROnPlateau reducing learning rate to 3.12499992106e-06.\n",
      "Epoch 24/70\n",
      "1181/1181 [==============================] - 32s 27ms/step - loss: 0.0330 - acc: 0.9902 - val_loss: 0.0225 - val_acc: 0.9936\n",
      "Epoch 25/70\n",
      "1181/1181 [==============================] - 32s 27ms/step - loss: 0.0318 - acc: 0.9901 - val_loss: 0.0224 - val_acc: 0.9936\n",
      "Epoch 26/70\n",
      "1181/1181 [==============================] - 32s 27ms/step - loss: 0.0324 - acc: 0.9897 - val_loss: 0.0230 - val_acc: 0.9936\n",
      "\n",
      "Epoch 00026: ReduceLROnPlateau reducing learning rate to 1.56249996053e-06.\n",
      "Epoch 27/70\n",
      "1181/1181 [==============================] - 32s 27ms/step - loss: 0.0325 - acc: 0.9902 - val_loss: 0.0232 - val_acc: 0.9938\n",
      "Epoch 28/70\n",
      "1181/1181 [==============================] - 32s 27ms/step - loss: 0.0304 - acc: 0.9902 - val_loss: 0.0223 - val_acc: 0.9936\n",
      "Epoch 29/70\n",
      "1181/1181 [==============================] - 32s 27ms/step - loss: 0.0315 - acc: 0.9904 - val_loss: 0.0226 - val_acc: 0.9933\n",
      "\n",
      "Epoch 00029: ReduceLROnPlateau reducing learning rate to 7.81249980264e-07.\n",
      "Epoch 30/70\n",
      "1181/1181 [==============================] - 32s 27ms/step - loss: 0.0300 - acc: 0.9904 - val_loss: 0.0228 - val_acc: 0.9933\n",
      "Epoch 31/70\n",
      "1181/1181 [==============================] - 33s 28ms/step - loss: 0.0302 - acc: 0.9904 - val_loss: 0.0227 - val_acc: 0.9936\n",
      "Epoch 32/70\n",
      "1181/1181 [==============================] - 32s 27ms/step - loss: 0.0298 - acc: 0.9909 - val_loss: 0.0223 - val_acc: 0.9938\n",
      "\n",
      "Epoch 00032: ReduceLROnPlateau reducing learning rate to 3.90624990132e-07.\n",
      "Epoch 33/70\n",
      "1181/1181 [==============================] - 32s 27ms/step - loss: 0.0319 - acc: 0.9903 - val_loss: 0.0228 - val_acc: 0.9936\n",
      "Epoch 34/70\n",
      "1181/1181 [==============================] - 32s 27ms/step - loss: 0.0310 - acc: 0.9909 - val_loss: 0.0226 - val_acc: 0.9933\n",
      "Epoch 35/70\n",
      "1181/1181 [==============================] - 32s 28ms/step - loss: 0.0310 - acc: 0.9904 - val_loss: 0.0224 - val_acc: 0.9936\n",
      "\n",
      "Epoch 00035: ReduceLROnPlateau reducing learning rate to 1.95312495066e-07.\n",
      "Epoch 36/70\n",
      "1181/1181 [==============================] - 32s 27ms/step - loss: 0.0293 - acc: 0.9910 - val_loss: 0.0225 - val_acc: 0.9933\n",
      "Epoch 37/70\n",
      "1181/1181 [==============================] - 32s 27ms/step - loss: 0.0279 - acc: 0.9908 - val_loss: 0.0227 - val_acc: 0.9936\n",
      "Epoch 38/70\n",
      "1181/1181 [==============================] - 32s 27ms/step - loss: 0.0313 - acc: 0.9898 - val_loss: 0.0227 - val_acc: 0.9933\n",
      "\n",
      "Epoch 00038: ReduceLROnPlateau reducing learning rate to 9.7656247533e-08.\n",
      "Epoch 39/70\n",
      "1181/1181 [==============================] - 32s 27ms/step - loss: 0.0295 - acc: 0.9909 - val_loss: 0.0225 - val_acc: 0.9933\n",
      "Epoch 40/70\n",
      "1181/1181 [==============================] - 33s 28ms/step - loss: 0.0297 - acc: 0.9907 - val_loss: 0.0226 - val_acc: 0.9938\n",
      "Epoch 41/70\n",
      "1181/1181 [==============================] - 32s 27ms/step - loss: 0.0299 - acc: 0.9905 - val_loss: 0.0226 - val_acc: 0.9936\n",
      "\n",
      "Epoch 00041: ReduceLROnPlateau reducing learning rate to 4.88281237665e-08.\n",
      "Epoch 42/70\n",
      "1181/1181 [==============================] - 32s 28ms/step - loss: 0.0303 - acc: 0.9905 - val_loss: 0.0228 - val_acc: 0.9933\n",
      "Epoch 43/70\n",
      "1181/1181 [==============================] - 33s 28ms/step - loss: 0.0275 - acc: 0.9916 - val_loss: 0.0222 - val_acc: 0.9940\n",
      "Epoch 44/70\n",
      "1181/1181 [==============================] - 32s 28ms/step - loss: 0.0317 - acc: 0.9900 - val_loss: 0.0225 - val_acc: 0.9933\n",
      "\n",
      "Epoch 00044: ReduceLROnPlateau reducing learning rate to 2.44140618832e-08.\n",
      "Epoch 45/70\n",
      "1181/1181 [==============================] - 32s 27ms/step - loss: 0.0298 - acc: 0.9910 - val_loss: 0.0228 - val_acc: 0.9933\n",
      "Epoch 46/70\n",
      "1181/1181 [==============================] - 32s 28ms/step - loss: 0.0303 - acc: 0.9905 - val_loss: 0.0224 - val_acc: 0.9933\n",
      "Epoch 47/70\n",
      "1181/1181 [==============================] - 33s 28ms/step - loss: 0.0285 - acc: 0.9908 - val_loss: 0.0227 - val_acc: 0.9931\n",
      "\n",
      "Epoch 00047: ReduceLROnPlateau reducing learning rate to 1.22070309416e-08.\n",
      "Epoch 48/70\n",
      "1181/1181 [==============================] - 32s 27ms/step - loss: 0.0298 - acc: 0.9901 - val_loss: 0.0228 - val_acc: 0.9936\n",
      "Epoch 49/70\n",
      "1181/1181 [==============================] - 33s 28ms/step - loss: 0.0293 - acc: 0.9901 - val_loss: 0.0225 - val_acc: 0.9936\n",
      "Epoch 50/70\n",
      "1181/1181 [==============================] - 33s 28ms/step - loss: 0.0301 - acc: 0.9905 - val_loss: 0.0226 - val_acc: 0.9933\n",
      "\n",
      "Epoch 00050: ReduceLROnPlateau reducing learning rate to 6.10351547081e-09.\n",
      "Epoch 51/70\n",
      "1181/1181 [==============================] - 33s 28ms/step - loss: 0.0299 - acc: 0.9907 - val_loss: 0.0228 - val_acc: 0.9936\n",
      "Epoch 52/70\n",
      "1181/1181 [==============================] - 32s 28ms/step - loss: 0.0295 - acc: 0.9903 - val_loss: 0.0226 - val_acc: 0.9931\n",
      "Epoch 53/70\n"
     ]
    },
    {
     "name": "stdout",
     "output_type": "stream",
     "text": [
      "1181/1181 [==============================] - 32s 27ms/step - loss: 0.0313 - acc: 0.9900 - val_loss: 0.0227 - val_acc: 0.9933\n",
      "\n",
      "Epoch 00053: ReduceLROnPlateau reducing learning rate to 3.05175773541e-09.\n",
      "Epoch 54/70\n",
      "1181/1181 [==============================] - 32s 27ms/step - loss: 0.0296 - acc: 0.9907 - val_loss: 0.0227 - val_acc: 0.9938\n",
      "Epoch 55/70\n",
      "1181/1181 [==============================] - 32s 27ms/step - loss: 0.0305 - acc: 0.9901 - val_loss: 0.0226 - val_acc: 0.9933\n",
      "Epoch 56/70\n",
      "1181/1181 [==============================] - 32s 27ms/step - loss: 0.0298 - acc: 0.9909 - val_loss: 0.0223 - val_acc: 0.9936\n",
      "\n",
      "Epoch 00056: ReduceLROnPlateau reducing learning rate to 1.5258788677e-09.\n",
      "Epoch 57/70\n",
      "1181/1181 [==============================] - 32s 27ms/step - loss: 0.0287 - acc: 0.9907 - val_loss: 0.0226 - val_acc: 0.9938\n",
      "Epoch 58/70\n",
      "1181/1181 [==============================] - 32s 27ms/step - loss: 0.0326 - acc: 0.9900 - val_loss: 0.0225 - val_acc: 0.9938\n",
      "Epoch 59/70\n",
      "1181/1181 [==============================] - 32s 27ms/step - loss: 0.0296 - acc: 0.9909 - val_loss: 0.0230 - val_acc: 0.9933\n",
      "\n",
      "Epoch 00059: ReduceLROnPlateau reducing learning rate to 1e-09.\n",
      "Epoch 60/70\n",
      "1181/1181 [==============================] - 32s 27ms/step - loss: 0.0303 - acc: 0.9903 - val_loss: 0.0222 - val_acc: 0.9938\n",
      "Epoch 61/70\n",
      "1181/1181 [==============================] - 32s 27ms/step - loss: 0.0297 - acc: 0.9906 - val_loss: 0.0225 - val_acc: 0.9936\n",
      "Epoch 62/70\n",
      "1181/1181 [==============================] - 32s 27ms/step - loss: 0.0297 - acc: 0.9913 - val_loss: 0.0222 - val_acc: 0.9940\n",
      "Epoch 63/70\n",
      "1181/1181 [==============================] - 32s 27ms/step - loss: 0.0286 - acc: 0.9905 - val_loss: 0.0224 - val_acc: 0.9931\n",
      "Epoch 64/70\n",
      "1181/1181 [==============================] - 32s 27ms/step - loss: 0.0314 - acc: 0.9907 - val_loss: 0.0226 - val_acc: 0.9931\n",
      "Epoch 65/70\n",
      "1181/1181 [==============================] - 32s 27ms/step - loss: 0.0310 - acc: 0.9909 - val_loss: 0.0227 - val_acc: 0.9933\n",
      "Epoch 66/70\n",
      "1181/1181 [==============================] - 32s 27ms/step - loss: 0.0292 - acc: 0.9913 - val_loss: 0.0224 - val_acc: 0.9933\n",
      "Epoch 67/70\n",
      "1181/1181 [==============================] - 32s 27ms/step - loss: 0.0286 - acc: 0.9908 - val_loss: 0.0225 - val_acc: 0.9936\n",
      "Epoch 68/70\n",
      "1181/1181 [==============================] - 32s 27ms/step - loss: 0.0299 - acc: 0.9910 - val_loss: 0.0226 - val_acc: 0.9933\n",
      "Epoch 69/70\n",
      "1181/1181 [==============================] - 32s 27ms/step - loss: 0.0288 - acc: 0.9912 - val_loss: 0.0229 - val_acc: 0.9933\n",
      "Epoch 70/70\n",
      "1181/1181 [==============================] - 32s 27ms/step - loss: 0.0286 - acc: 0.9913 - val_loss: 0.0226 - val_acc: 0.9936\n"
     ]
    }
   ],
   "source": [
    "model3 = model_convpool2()\n",
    "r3 = compile_and_train(model3, EPOCHS, 3)"
   ]
  },
  {
   "cell_type": "code",
   "execution_count": 20,
   "metadata": {},
   "outputs": [
    {
     "data": {
      "image/png": "[encoded data removed]",
      "text/plain": [
       "<Figure size 1440x504 with 2 Axes>"
      ]
     },
     "metadata": {
      "needs_background": "light"
     },
     "output_type": "display_data"
    }
   ],
   "source": [
    "plot_training(r1)"
   ]
  },
  {
   "cell_type": "code",
   "execution_count": 21,
   "metadata": {},
   "outputs": [
    {
     "data": {
      "image/png": "[encoded data removed]",
      "text/plain": [
       "<Figure size 1440x504 with 2 Axes>"
      ]
     },
     "metadata": {
      "needs_background": "light"
     },
     "output_type": "display_data"
    }
   ],
   "source": [
    "plot_training(r2)"
   ]
  },
  {
   "cell_type": "code",
   "execution_count": 22,
   "metadata": {
    "scrolled": false
   },
   "outputs": [
    {
     "data": {
      "image/png": "[encoded data removed]",
      "text/plain": [
       "<Figure size 1440x504 with 2 Axes>"
      ]
     },
     "metadata": {
      "needs_background": "light"
     },
     "output_type": "display_data"
    }
   ],
   "source": [
    "plot_training(r3)"
   ]
  },
  {
   "cell_type": "markdown",
   "metadata": {},
   "source": [
    "# 6. Analyzing results\n",
    "\n",
    "Confusion matrices look different enough to hope for good results from ensembling."
   ]
  },
  {
   "cell_type": "code",
   "execution_count": 23,
   "metadata": {},
   "outputs": [],
   "source": [
    "def print_confusion_matrix(model, seed, split=0.1):\n",
    "    X_train, X_test, y_train, y_test = train_test_split(X, Y, test_size=split, random_state=seed)\n",
    "    preds = model.predict(X_test).argmax(axis=1)\n",
    "    conf_mat = confusion_matrix(y_test.argmax(axis=1), preds)\n",
    "    df_cm = pd.DataFrame(conf_mat, index = [str(i) for i in range(10)],\n",
    "                  columns = [str(i) for i in range(10)])\n",
    "    for i in range(df_cm.shape[0]):\n",
    "        df_cm.iloc[i, i] = -1\n",
    "    plt.figure(figsize = (10,7))\n",
    "    sns.heatmap(df_cm, annot=True)"
   ]
  },
  {
   "cell_type": "code",
   "execution_count": 24,
   "metadata": {},
   "outputs": [
    {
     "data": {
      "image/png": "[encoded data removed]",
      "text/plain": [
       "<Figure size 720x504 with 2 Axes>"
      ]
     },
     "metadata": {
      "needs_background": "light"
     },
     "output_type": "display_data"
    }
   ],
   "source": [
    "print_confusion_matrix(model1, 1)"
   ]
  },
  {
   "cell_type": "code",
   "execution_count": 25,
   "metadata": {},
   "outputs": [
    {
     "data": {
      "image/png": "[encoded data removed]",
      "text/plain": [
       "<Figure size 720x504 with 2 Axes>"
      ]
     },
     "metadata": {
      "needs_background": "light"
     },
     "output_type": "display_data"
    }
   ],
   "source": [
    "print_confusion_matrix(model2, 2)"
   ]
  },
  {
   "cell_type": "code",
   "execution_count": 26,
   "metadata": {},
   "outputs": [
    {
     "data": {
      "image/png": "[encoded data removed]",
      "text/plain": [
       "<Figure size 720x504 with 2 Axes>"
      ]
     },
     "metadata": {
      "needs_background": "light"
     },
     "output_type": "display_data"
    }
   ],
   "source": [
    "print_confusion_matrix(model3, 3)"
   ]
  },
  {
   "cell_type": "code",
   "execution_count": 27,
   "metadata": {},
   "outputs": [],
   "source": [
    "def ensemble(models, model_input):\n",
    "    outputs = [model.outputs[0] for model in models]\n",
    "    y = Average()(outputs)\n",
    "    model = Model(model_input, y, name='ensemble')\n",
    "    return model"
   ]
  },
  {
   "cell_type": "code",
   "execution_count": 28,
   "metadata": {},
   "outputs": [],
   "source": [
    "ensemble_model = ensemble([model1, model2, model3], model_input)"
   ]
  },
  {
   "cell_type": "markdown",
   "metadata": {},
   "source": [
    "### Here I'm using the whole dataset to evaluate the ensemble model\n",
    "\n",
    "Single model confusion matrices are on test split only"
   ]
  },
  {
   "cell_type": "code",
   "execution_count": 29,
   "metadata": {},
   "outputs": [
    {
     "data": {
      "image/png": "[encoded data removed]",
      "text/plain": [
       "<Figure size 720x504 with 2 Axes>"
      ]
     },
     "metadata": {
      "needs_background": "light"
     },
     "output_type": "display_data"
    }
   ],
   "source": [
    "print_confusion_matrix(ensemble_model, 1, split=.9999999)"
   ]
  },
  {
   "cell_type": "code",
   "execution_count": 30,
   "metadata": {},
   "outputs": [],
   "source": [
    "def evaluate_error(model):\n",
    "    X_train, X_test, y_train, y_test = train_test_split(X, Y, test_size=.9999999, random_state=1)\n",
    "    pred = model.predict(X_test, batch_size = 32)\n",
    "    pred = np.argmax(pred, axis=1)\n",
    "    error = np.mean(pred != np.argmax(y_test, axis=1)) \n",
    "    print(error)"
   ]
  },
  {
   "cell_type": "code",
   "execution_count": 31,
   "metadata": {},
   "outputs": [
    {
     "name": "stdout",
     "output_type": "stream",
     "text": [
      "0.0007380952380952381\n",
      "0.0014285714285714286\n",
      "0.003119047619047619\n",
      "0.0010714285714285715\n"
     ]
    }
   ],
   "source": [
    "evaluate_error(model1)\n",
    "evaluate_error(model2)\n",
    "evaluate_error(model3)\n",
    "evaluate_error(ensemble_model)"
   ]
  },
  {
   "cell_type": "markdown",
   "metadata": {},
   "source": [
    "# 7. Finally let's predict on test set and generate the answers .csv"
   ]
  },
  {
   "cell_type": "code",
   "execution_count": 32,
   "metadata": {},
   "outputs": [],
   "source": [
    "df_test = pd.read_csv('test.csv')"
   ]
  },
  {
   "cell_type": "code",
   "execution_count": 33,
   "metadata": {},
   "outputs": [],
   "source": [
    "X = df_test.values"
   ]
  },
  {
   "cell_type": "code",
   "execution_count": 34,
   "metadata": {},
   "outputs": [],
   "source": [
    "X = X.reshape(len(X),28,28,1)"
   ]
  },
  {
   "cell_type": "code",
   "execution_count": 35,
   "metadata": {},
   "outputs": [],
   "source": [
    "p = ensemble_model.predict(X)"
   ]
  },
  {
   "cell_type": "code",
   "execution_count": 36,
   "metadata": {},
   "outputs": [],
   "source": [
    "answers = p.argmax(axis=1)"
   ]
  },
  {
   "cell_type": "code",
   "execution_count": 37,
   "metadata": {},
   "outputs": [],
   "source": [
    "df = pd.DataFrame(answers, index=np.arange(1,28001), columns=['Label'])"
   ]
  },
  {
   "cell_type": "code",
   "execution_count": 38,
   "metadata": {},
   "outputs": [],
   "source": [
    "df['ImageId'] = df.index"
   ]
  },
  {
   "cell_type": "code",
   "execution_count": 39,
   "metadata": {},
   "outputs": [
    {
     "data": {
      "text/html": [
       "<div>\n",
       "<style scoped>\n",
       "    .dataframe tbody tr th:only-of-type {\n",
       "        vertical-align: middle;\n",
       "    }\n",
       "\n",
       "    .dataframe tbody tr th {\n",
       "        vertical-align: top;\n",
       "    }\n",
       "\n",
       "    .dataframe thead th {\n",
       "        text-align: right;\n",
       "    }\n",
       "</style>\n",
       "<table border=\"1\" class=\"dataframe\">\n",
       "  <thead>\n",
       "    <tr style=\"text-align: right;\">\n",
       "      <th></th>\n",
       "      <th>ImageId</th>\n",
       "      <th>Label</th>\n",
       "    </tr>\n",
       "  </thead>\n",
       "  <tbody>\n",
       "    <tr>\n",
       "      <th>1</th>\n",
       "      <td>1</td>\n",
       "      <td>2</td>\n",
       "    </tr>\n",
       "    <tr>\n",
       "      <th>2</th>\n",
       "      <td>2</td>\n",
       "      <td>0</td>\n",
       "    </tr>\n",
       "    <tr>\n",
       "      <th>3</th>\n",
       "      <td>3</td>\n",
       "      <td>9</td>\n",
       "    </tr>\n",
       "    <tr>\n",
       "      <th>4</th>\n",
       "      <td>4</td>\n",
       "      <td>0</td>\n",
       "    </tr>\n",
       "    <tr>\n",
       "      <th>5</th>\n",
       "      <td>5</td>\n",
       "      <td>3</td>\n",
       "    </tr>\n",
       "  </tbody>\n",
       "</table>\n",
       "</div>"
      ],
      "text/plain": [
       "   ImageId  Label\n",
       "1        1      2\n",
       "2        2      0\n",
       "3        3      9\n",
       "4        4      0\n",
       "5        5      3"
      ]
     },
     "execution_count": 39,
     "metadata": {},
     "output_type": "execute_result"
    }
   ],
   "source": [
    "cols = df.columns.tolist()\n",
    "cols = cols[-1:] + cols[:-1]\n",
    "df = df[cols]\n",
    "df.head()"
   ]
  },
  {
   "cell_type": "code",
   "execution_count": 40,
   "metadata": {},
   "outputs": [],
   "source": [
    "df.to_csv('answers.csv', index=False)"
   ]
  },
  {
   "cell_type": "code",
   "execution_count": null,
   "metadata": {},
   "outputs": [],
   "source": []
  }
 ],
 "metadata": {
  "kernelspec": {
   "display_name": "Python 2",
   "language": "python",
   "name": "python2"
  },
  "language_info": {
   "codemirror_mode": {
    "name": "ipython",
    "version": 2
   },
   "file_extension": ".py",
   "mimetype": "text/x-python",
   "name": "python",
   "nbconvert_exporter": "python",
   "pygments_lexer": "ipython2",
   "version": "2.7.15rc1"
  }
 },
 "nbformat": 4,
 "nbformat_minor": 2
}
